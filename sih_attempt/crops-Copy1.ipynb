{
 "cells": [
  {
   "cell_type": "code",
   "execution_count": 32,
   "metadata": {},
   "outputs": [],
   "source": [
    "import pandas as pd\n",
    "import seaborn as sns\n",
    "import numpy as np\n",
    "import matplotlib.pyplot as plt\n",
    "\n",
    "%matplotlib inline"
   ]
  },
  {
   "cell_type": "code",
   "execution_count": 33,
   "metadata": {},
   "outputs": [
    {
     "name": "stdout",
     "output_type": "stream",
     "text": [
      "WARNING *** OLE2 inconsistency: SSCS size is 0 but SSAT size is non-zero\n"
     ]
    }
   ],
   "source": [
    "data_1 = pd.read_csv(\"crop_production.csv\")\n",
    "data_2 = pd.read_excel(\"india_-_monthly_rainfall_data_-_1901_to_2002.xlsx\")\n",
    "data_3 = pd.read_excel(\"datafile (3).xls\")"
   ]
  },
  {
   "cell_type": "code",
   "execution_count": 34,
   "metadata": {},
   "outputs": [
    {
     "data": {
      "text/html": [
       "<div>\n",
       "<style scoped>\n",
       "    .dataframe tbody tr th:only-of-type {\n",
       "        vertical-align: middle;\n",
       "    }\n",
       "\n",
       "    .dataframe tbody tr th {\n",
       "        vertical-align: top;\n",
       "    }\n",
       "\n",
       "    .dataframe thead th {\n",
       "        text-align: right;\n",
       "    }\n",
       "</style>\n",
       "<table border=\"1\" class=\"dataframe\">\n",
       "  <thead>\n",
       "    <tr style=\"text-align: right;\">\n",
       "      <th></th>\n",
       "      <th>State</th>\n",
       "      <th>Year</th>\n",
       "      <th>Season</th>\n",
       "      <th>Crop</th>\n",
       "      <th>Area</th>\n",
       "      <th>Production</th>\n",
       "    </tr>\n",
       "  </thead>\n",
       "  <tbody>\n",
       "    <tr>\n",
       "      <td>0</td>\n",
       "      <td>Andaman and Nicobar Islands</td>\n",
       "      <td>2000</td>\n",
       "      <td>Kharif</td>\n",
       "      <td>Arecanut</td>\n",
       "      <td>1254.0</td>\n",
       "      <td>2000.0</td>\n",
       "    </tr>\n",
       "    <tr>\n",
       "      <td>1</td>\n",
       "      <td>Andaman and Nicobar Islands</td>\n",
       "      <td>2000</td>\n",
       "      <td>Kharif</td>\n",
       "      <td>Other Kharif pulses</td>\n",
       "      <td>2.0</td>\n",
       "      <td>1.0</td>\n",
       "    </tr>\n",
       "    <tr>\n",
       "      <td>2</td>\n",
       "      <td>Andaman and Nicobar Islands</td>\n",
       "      <td>2000</td>\n",
       "      <td>Kharif</td>\n",
       "      <td>Rice</td>\n",
       "      <td>102.0</td>\n",
       "      <td>321.0</td>\n",
       "    </tr>\n",
       "    <tr>\n",
       "      <td>3</td>\n",
       "      <td>Andaman and Nicobar Islands</td>\n",
       "      <td>2000</td>\n",
       "      <td>Whole Year</td>\n",
       "      <td>Banana</td>\n",
       "      <td>176.0</td>\n",
       "      <td>641.0</td>\n",
       "    </tr>\n",
       "    <tr>\n",
       "      <td>4</td>\n",
       "      <td>Andaman and Nicobar Islands</td>\n",
       "      <td>2000</td>\n",
       "      <td>Whole Year</td>\n",
       "      <td>Cashewnut</td>\n",
       "      <td>720.0</td>\n",
       "      <td>165.0</td>\n",
       "    </tr>\n",
       "  </tbody>\n",
       "</table>\n",
       "</div>"
      ],
      "text/plain": [
       "                         State  Year       Season                 Crop  \\\n",
       "0  Andaman and Nicobar Islands  2000  Kharif                  Arecanut   \n",
       "1  Andaman and Nicobar Islands  2000  Kharif       Other Kharif pulses   \n",
       "2  Andaman and Nicobar Islands  2000  Kharif                      Rice   \n",
       "3  Andaman and Nicobar Islands  2000  Whole Year                Banana   \n",
       "4  Andaman and Nicobar Islands  2000  Whole Year             Cashewnut   \n",
       "\n",
       "     Area  Production  \n",
       "0  1254.0      2000.0  \n",
       "1     2.0         1.0  \n",
       "2   102.0       321.0  \n",
       "3   176.0       641.0  \n",
       "4   720.0       165.0  "
      ]
     },
     "execution_count": 34,
     "metadata": {},
     "output_type": "execute_result"
    }
   ],
   "source": [
    "data_1.reset_index(drop=True)\n",
    "data_1.rename(columns = {\"State_Name\": \"State\",\"Crop_Year\":\"Year\",\"District_Name\":\"District\"},inplace=True)\n",
    "data_1.drop(['District'],axis=1,inplace=True)\n",
    "data_1.head()"
   ]
  },
  {
   "cell_type": "code",
   "execution_count": 35,
   "metadata": {},
   "outputs": [
    {
     "data": {
      "text/html": [
       "<div>\n",
       "<style scoped>\n",
       "    .dataframe tbody tr th:only-of-type {\n",
       "        vertical-align: middle;\n",
       "    }\n",
       "\n",
       "    .dataframe tbody tr th {\n",
       "        vertical-align: top;\n",
       "    }\n",
       "\n",
       "    .dataframe thead th {\n",
       "        text-align: right;\n",
       "    }\n",
       "</style>\n",
       "<table border=\"1\" class=\"dataframe\">\n",
       "  <thead>\n",
       "    <tr style=\"text-align: right;\">\n",
       "      <th></th>\n",
       "      <th>State</th>\n",
       "      <th>Year</th>\n",
       "      <th>Jan</th>\n",
       "      <th>Feb</th>\n",
       "      <th>Mar</th>\n",
       "      <th>Apr</th>\n",
       "      <th>May</th>\n",
       "      <th>Jun</th>\n",
       "      <th>Jul</th>\n",
       "      <th>Aug</th>\n",
       "      <th>Sep</th>\n",
       "      <th>Oct</th>\n",
       "      <th>Nov</th>\n",
       "      <th>Dec</th>\n",
       "    </tr>\n",
       "  </thead>\n",
       "  <tbody>\n",
       "    <tr>\n",
       "      <td>55312</td>\n",
       "      <td>West Bengal</td>\n",
       "      <td>1998</td>\n",
       "      <td>3.676</td>\n",
       "      <td>16.042</td>\n",
       "      <td>15.435</td>\n",
       "      <td>43.497</td>\n",
       "      <td>189.031</td>\n",
       "      <td>101.695</td>\n",
       "      <td>275.914</td>\n",
       "      <td>316.537</td>\n",
       "      <td>262.286</td>\n",
       "      <td>256.652</td>\n",
       "      <td>15.486</td>\n",
       "      <td>0.000</td>\n",
       "    </tr>\n",
       "    <tr>\n",
       "      <td>55313</td>\n",
       "      <td>West Bengal</td>\n",
       "      <td>1999</td>\n",
       "      <td>7.867</td>\n",
       "      <td>2.932</td>\n",
       "      <td>2.066</td>\n",
       "      <td>3.020</td>\n",
       "      <td>151.115</td>\n",
       "      <td>214.111</td>\n",
       "      <td>380.077</td>\n",
       "      <td>375.183</td>\n",
       "      <td>232.015</td>\n",
       "      <td>85.839</td>\n",
       "      <td>7.591</td>\n",
       "      <td>0.255</td>\n",
       "    </tr>\n",
       "    <tr>\n",
       "      <td>55314</td>\n",
       "      <td>West Bengal</td>\n",
       "      <td>2000</td>\n",
       "      <td>11.294</td>\n",
       "      <td>10.908</td>\n",
       "      <td>10.686</td>\n",
       "      <td>27.669</td>\n",
       "      <td>110.618</td>\n",
       "      <td>264.845</td>\n",
       "      <td>185.798</td>\n",
       "      <td>297.535</td>\n",
       "      <td>280.883</td>\n",
       "      <td>22.048</td>\n",
       "      <td>0.568</td>\n",
       "      <td>0.423</td>\n",
       "    </tr>\n",
       "    <tr>\n",
       "      <td>55315</td>\n",
       "      <td>West Bengal</td>\n",
       "      <td>2001</td>\n",
       "      <td>1.866</td>\n",
       "      <td>4.048</td>\n",
       "      <td>21.805</td>\n",
       "      <td>36.436</td>\n",
       "      <td>152.242</td>\n",
       "      <td>164.361</td>\n",
       "      <td>311.196</td>\n",
       "      <td>271.373</td>\n",
       "      <td>165.015</td>\n",
       "      <td>124.258</td>\n",
       "      <td>2.798</td>\n",
       "      <td>0.000</td>\n",
       "    </tr>\n",
       "    <tr>\n",
       "      <td>55316</td>\n",
       "      <td>West Bengal</td>\n",
       "      <td>2002</td>\n",
       "      <td>14.939</td>\n",
       "      <td>3.758</td>\n",
       "      <td>12.410</td>\n",
       "      <td>54.591</td>\n",
       "      <td>80.993</td>\n",
       "      <td>189.604</td>\n",
       "      <td>276.109</td>\n",
       "      <td>285.924</td>\n",
       "      <td>215.591</td>\n",
       "      <td>108.733</td>\n",
       "      <td>17.757</td>\n",
       "      <td>0.000</td>\n",
       "    </tr>\n",
       "  </tbody>\n",
       "</table>\n",
       "</div>"
      ],
      "text/plain": [
       "             State  Year     Jan     Feb     Mar     Apr      May      Jun  \\\n",
       "55312  West Bengal  1998   3.676  16.042  15.435  43.497  189.031  101.695   \n",
       "55313  West Bengal  1999   7.867   2.932   2.066   3.020  151.115  214.111   \n",
       "55314  West Bengal  2000  11.294  10.908  10.686  27.669  110.618  264.845   \n",
       "55315  West Bengal  2001   1.866   4.048  21.805  36.436  152.242  164.361   \n",
       "55316  West Bengal  2002  14.939   3.758  12.410  54.591   80.993  189.604   \n",
       "\n",
       "           Jul      Aug      Sep      Oct     Nov    Dec  \n",
       "55312  275.914  316.537  262.286  256.652  15.486  0.000  \n",
       "55313  380.077  375.183  232.015   85.839   7.591  0.255  \n",
       "55314  185.798  297.535  280.883   22.048   0.568  0.423  \n",
       "55315  311.196  271.373  165.015  124.258   2.798  0.000  \n",
       "55316  276.109  285.924  215.591  108.733  17.757  0.000  "
      ]
     },
     "execution_count": 35,
     "metadata": {},
     "output_type": "execute_result"
    }
   ],
   "source": [
    "data_2.reset_index(drop=True)\n",
    "data_2.dropna(inplace=True)\n",
    "data_2['Year'] = data_2['Year'].astype(int)\n",
    "data_2.drop(['vlookup'],axis=1,inplace=True)\n",
    "data_2.drop(['District'],axis=1,inplace=True)\n",
    "data_2.tail()"
   ]
  },
  {
   "cell_type": "code",
   "execution_count": 36,
   "metadata": {},
   "outputs": [
    {
     "data": {
      "text/html": [
       "<div>\n",
       "<style scoped>\n",
       "    .dataframe tbody tr th:only-of-type {\n",
       "        vertical-align: middle;\n",
       "    }\n",
       "\n",
       "    .dataframe tbody tr th {\n",
       "        vertical-align: top;\n",
       "    }\n",
       "\n",
       "    .dataframe thead th {\n",
       "        text-align: right;\n",
       "    }\n",
       "</style>\n",
       "<table border=\"1\" class=\"dataframe\">\n",
       "  <thead>\n",
       "    <tr style=\"text-align: right;\">\n",
       "      <th></th>\n",
       "      <th>State</th>\n",
       "      <th>gnd_water_lvl</th>\n",
       "    </tr>\n",
       "  </thead>\n",
       "  <tbody>\n",
       "    <tr>\n",
       "      <td>0</td>\n",
       "      <td>ANDHRA PRADESH</td>\n",
       "      <td>111382.0</td>\n",
       "    </tr>\n",
       "    <tr>\n",
       "      <td>1</td>\n",
       "      <td>ANDHRA PRADESH</td>\n",
       "      <td>91598.0</td>\n",
       "    </tr>\n",
       "    <tr>\n",
       "      <td>2</td>\n",
       "      <td>ANDHRA PRADESH</td>\n",
       "      <td>89454.0</td>\n",
       "    </tr>\n",
       "    <tr>\n",
       "      <td>3</td>\n",
       "      <td>ANDHRA PRADESH</td>\n",
       "      <td>153953.0</td>\n",
       "    </tr>\n",
       "    <tr>\n",
       "      <td>4</td>\n",
       "      <td>ANDHRA PRADESH</td>\n",
       "      <td>154366.0</td>\n",
       "    </tr>\n",
       "  </tbody>\n",
       "</table>\n",
       "</div>"
      ],
      "text/plain": [
       "            State  gnd_water_lvl\n",
       "0  ANDHRA PRADESH       111382.0\n",
       "1  ANDHRA PRADESH        91598.0\n",
       "2  ANDHRA PRADESH        89454.0\n",
       "3  ANDHRA PRADESH       153953.0\n",
       "4  ANDHRA PRADESH       154366.0"
      ]
     },
     "execution_count": 36,
     "metadata": {},
     "output_type": "execute_result"
    }
   ],
   "source": [
    "data_3.reset_index(drop=True)\n",
    "data_3.rename(columns = {\"STATE\": \"State\",\"Net Annual Ground Water Availability  (Ham)\":\"gnd_water_lvl\"},inplace=True)\n",
    "data_3 = data_3[['State','District','gnd_water_lvl']]\n",
    "data_3.drop(['District'],axis=1,inplace=True)\n",
    "data_3.head()"
   ]
  },
  {
   "cell_type": "code",
   "execution_count": 37,
   "metadata": {},
   "outputs": [],
   "source": [
    "data_1['State'] = data_1['State'].apply(lambda x: x.lower().split()[0])\n",
    "data_2['State'] = data_2['State'].apply(lambda x: x.lower().split()[0])\n",
    "data_3['State'] = data_3['State'].apply(lambda x: x.lower().split()[0])"
   ]
  },
  {
   "cell_type": "code",
   "execution_count": 38,
   "metadata": {},
   "outputs": [],
   "source": [
    "# data_1['District'] = data_1['District'].apply(lambda x: x.lower())\n",
    "# data_2['District'] = data_2['District'].apply(lambda x: x.lower())\n",
    "# data_3['District'] = data_3['District'].apply(lambda x: x.lower())"
   ]
  },
  {
   "cell_type": "code",
   "execution_count": 39,
   "metadata": {},
   "outputs": [],
   "source": [
    "data = pd.merge(data_1,data_2,on=['State','Year'],how='inner')"
   ]
  },
  {
   "cell_type": "code",
   "execution_count": 41,
   "metadata": {},
   "outputs": [
    {
     "data": {
      "text/html": [
       "<div>\n",
       "<style scoped>\n",
       "    .dataframe tbody tr th:only-of-type {\n",
       "        vertical-align: middle;\n",
       "    }\n",
       "\n",
       "    .dataframe tbody tr th {\n",
       "        vertical-align: top;\n",
       "    }\n",
       "\n",
       "    .dataframe thead th {\n",
       "        text-align: right;\n",
       "    }\n",
       "</style>\n",
       "<table border=\"1\" class=\"dataframe\">\n",
       "  <thead>\n",
       "    <tr style=\"text-align: right;\">\n",
       "      <th></th>\n",
       "      <th>State</th>\n",
       "      <th>Year</th>\n",
       "      <th>Season</th>\n",
       "      <th>Crop</th>\n",
       "      <th>Area</th>\n",
       "      <th>Production</th>\n",
       "      <th>Jan</th>\n",
       "      <th>Feb</th>\n",
       "      <th>Mar</th>\n",
       "      <th>Apr</th>\n",
       "      <th>May</th>\n",
       "      <th>Jun</th>\n",
       "      <th>Jul</th>\n",
       "      <th>Aug</th>\n",
       "      <th>Sep</th>\n",
       "      <th>Oct</th>\n",
       "      <th>Nov</th>\n",
       "      <th>Dec</th>\n",
       "    </tr>\n",
       "  </thead>\n",
       "  <tbody>\n",
       "    <tr>\n",
       "      <td>37789</td>\n",
       "      <td>andhra</td>\n",
       "      <td>2001</td>\n",
       "      <td>Kharif</td>\n",
       "      <td>Arhar/Tur</td>\n",
       "      <td>27942.0</td>\n",
       "      <td>7628.0</td>\n",
       "      <td>27.877</td>\n",
       "      <td>0.000</td>\n",
       "      <td>29.505</td>\n",
       "      <td>19.383</td>\n",
       "      <td>18.654</td>\n",
       "      <td>238.726</td>\n",
       "      <td>137.050</td>\n",
       "      <td>296.140</td>\n",
       "      <td>92.442</td>\n",
       "      <td>119.916</td>\n",
       "      <td>5.925</td>\n",
       "      <td>0.000</td>\n",
       "    </tr>\n",
       "    <tr>\n",
       "      <td>37790</td>\n",
       "      <td>andhra</td>\n",
       "      <td>2001</td>\n",
       "      <td>Kharif</td>\n",
       "      <td>Arhar/Tur</td>\n",
       "      <td>27942.0</td>\n",
       "      <td>7628.0</td>\n",
       "      <td>0.748</td>\n",
       "      <td>0.000</td>\n",
       "      <td>8.177</td>\n",
       "      <td>56.759</td>\n",
       "      <td>28.460</td>\n",
       "      <td>50.801</td>\n",
       "      <td>55.809</td>\n",
       "      <td>73.125</td>\n",
       "      <td>127.757</td>\n",
       "      <td>155.670</td>\n",
       "      <td>19.560</td>\n",
       "      <td>2.472</td>\n",
       "    </tr>\n",
       "    <tr>\n",
       "      <td>37791</td>\n",
       "      <td>andhra</td>\n",
       "      <td>2001</td>\n",
       "      <td>Kharif</td>\n",
       "      <td>Arhar/Tur</td>\n",
       "      <td>27942.0</td>\n",
       "      <td>7628.0</td>\n",
       "      <td>0.952</td>\n",
       "      <td>0.000</td>\n",
       "      <td>5.487</td>\n",
       "      <td>53.705</td>\n",
       "      <td>39.773</td>\n",
       "      <td>51.875</td>\n",
       "      <td>89.087</td>\n",
       "      <td>72.435</td>\n",
       "      <td>185.992</td>\n",
       "      <td>209.669</td>\n",
       "      <td>58.477</td>\n",
       "      <td>44.418</td>\n",
       "    </tr>\n",
       "    <tr>\n",
       "      <td>37792</td>\n",
       "      <td>andhra</td>\n",
       "      <td>2001</td>\n",
       "      <td>Kharif</td>\n",
       "      <td>Arhar/Tur</td>\n",
       "      <td>27942.0</td>\n",
       "      <td>7628.0</td>\n",
       "      <td>0.790</td>\n",
       "      <td>0.000</td>\n",
       "      <td>11.753</td>\n",
       "      <td>36.055</td>\n",
       "      <td>22.966</td>\n",
       "      <td>54.640</td>\n",
       "      <td>58.776</td>\n",
       "      <td>79.416</td>\n",
       "      <td>148.728</td>\n",
       "      <td>178.554</td>\n",
       "      <td>28.600</td>\n",
       "      <td>13.374</td>\n",
       "    </tr>\n",
       "    <tr>\n",
       "      <td>37793</td>\n",
       "      <td>andhra</td>\n",
       "      <td>2001</td>\n",
       "      <td>Kharif</td>\n",
       "      <td>Arhar/Tur</td>\n",
       "      <td>27942.0</td>\n",
       "      <td>7628.0</td>\n",
       "      <td>0.011</td>\n",
       "      <td>0.000</td>\n",
       "      <td>0.597</td>\n",
       "      <td>16.035</td>\n",
       "      <td>84.542</td>\n",
       "      <td>112.266</td>\n",
       "      <td>84.056</td>\n",
       "      <td>265.616</td>\n",
       "      <td>150.572</td>\n",
       "      <td>186.730</td>\n",
       "      <td>108.740</td>\n",
       "      <td>3.749</td>\n",
       "    </tr>\n",
       "    <tr>\n",
       "      <td>...</td>\n",
       "      <td>...</td>\n",
       "      <td>...</td>\n",
       "      <td>...</td>\n",
       "      <td>...</td>\n",
       "      <td>...</td>\n",
       "      <td>...</td>\n",
       "      <td>...</td>\n",
       "      <td>...</td>\n",
       "      <td>...</td>\n",
       "      <td>...</td>\n",
       "      <td>...</td>\n",
       "      <td>...</td>\n",
       "      <td>...</td>\n",
       "      <td>...</td>\n",
       "      <td>...</td>\n",
       "      <td>...</td>\n",
       "      <td>...</td>\n",
       "      <td>...</td>\n",
       "    </tr>\n",
       "    <tr>\n",
       "      <td>2182261</td>\n",
       "      <td>west</td>\n",
       "      <td>2001</td>\n",
       "      <td>Winter</td>\n",
       "      <td>Rice</td>\n",
       "      <td>290378.0</td>\n",
       "      <td>735730.0</td>\n",
       "      <td>0.584</td>\n",
       "      <td>7.151</td>\n",
       "      <td>54.737</td>\n",
       "      <td>37.617</td>\n",
       "      <td>165.122</td>\n",
       "      <td>283.245</td>\n",
       "      <td>191.569</td>\n",
       "      <td>240.687</td>\n",
       "      <td>127.433</td>\n",
       "      <td>150.473</td>\n",
       "      <td>13.361</td>\n",
       "      <td>0.000</td>\n",
       "    </tr>\n",
       "    <tr>\n",
       "      <td>2182262</td>\n",
       "      <td>west</td>\n",
       "      <td>2001</td>\n",
       "      <td>Winter</td>\n",
       "      <td>Rice</td>\n",
       "      <td>290378.0</td>\n",
       "      <td>735730.0</td>\n",
       "      <td>0.422</td>\n",
       "      <td>5.942</td>\n",
       "      <td>55.416</td>\n",
       "      <td>31.844</td>\n",
       "      <td>163.617</td>\n",
       "      <td>375.922</td>\n",
       "      <td>195.336</td>\n",
       "      <td>264.785</td>\n",
       "      <td>141.539</td>\n",
       "      <td>217.714</td>\n",
       "      <td>31.785</td>\n",
       "      <td>0.276</td>\n",
       "    </tr>\n",
       "    <tr>\n",
       "      <td>2182263</td>\n",
       "      <td>west</td>\n",
       "      <td>2001</td>\n",
       "      <td>Winter</td>\n",
       "      <td>Rice</td>\n",
       "      <td>290378.0</td>\n",
       "      <td>735730.0</td>\n",
       "      <td>0.865</td>\n",
       "      <td>3.735</td>\n",
       "      <td>52.550</td>\n",
       "      <td>23.926</td>\n",
       "      <td>63.026</td>\n",
       "      <td>168.369</td>\n",
       "      <td>205.502</td>\n",
       "      <td>282.682</td>\n",
       "      <td>80.766</td>\n",
       "      <td>110.240</td>\n",
       "      <td>9.863</td>\n",
       "      <td>0.000</td>\n",
       "    </tr>\n",
       "    <tr>\n",
       "      <td>2182264</td>\n",
       "      <td>west</td>\n",
       "      <td>2001</td>\n",
       "      <td>Winter</td>\n",
       "      <td>Rice</td>\n",
       "      <td>290378.0</td>\n",
       "      <td>735730.0</td>\n",
       "      <td>0.200</td>\n",
       "      <td>4.869</td>\n",
       "      <td>49.101</td>\n",
       "      <td>25.242</td>\n",
       "      <td>129.101</td>\n",
       "      <td>330.818</td>\n",
       "      <td>159.740</td>\n",
       "      <td>234.861</td>\n",
       "      <td>127.108</td>\n",
       "      <td>212.852</td>\n",
       "      <td>33.798</td>\n",
       "      <td>0.427</td>\n",
       "    </tr>\n",
       "    <tr>\n",
       "      <td>2182265</td>\n",
       "      <td>west</td>\n",
       "      <td>2001</td>\n",
       "      <td>Winter</td>\n",
       "      <td>Rice</td>\n",
       "      <td>290378.0</td>\n",
       "      <td>735730.0</td>\n",
       "      <td>1.866</td>\n",
       "      <td>4.048</td>\n",
       "      <td>21.805</td>\n",
       "      <td>36.436</td>\n",
       "      <td>152.242</td>\n",
       "      <td>164.361</td>\n",
       "      <td>311.196</td>\n",
       "      <td>271.373</td>\n",
       "      <td>165.015</td>\n",
       "      <td>124.258</td>\n",
       "      <td>2.798</td>\n",
       "      <td>0.000</td>\n",
       "    </tr>\n",
       "  </tbody>\n",
       "</table>\n",
       "<p>365105 rows × 18 columns</p>\n",
       "</div>"
      ],
      "text/plain": [
       "          State  Year       Season       Crop      Area  Production     Jan  \\\n",
       "37789    andhra  2001  Kharif       Arhar/Tur   27942.0      7628.0  27.877   \n",
       "37790    andhra  2001  Kharif       Arhar/Tur   27942.0      7628.0   0.748   \n",
       "37791    andhra  2001  Kharif       Arhar/Tur   27942.0      7628.0   0.952   \n",
       "37792    andhra  2001  Kharif       Arhar/Tur   27942.0      7628.0   0.790   \n",
       "37793    andhra  2001  Kharif       Arhar/Tur   27942.0      7628.0   0.011   \n",
       "...         ...   ...          ...        ...       ...         ...     ...   \n",
       "2182261    west  2001  Winter            Rice  290378.0    735730.0   0.584   \n",
       "2182262    west  2001  Winter            Rice  290378.0    735730.0   0.422   \n",
       "2182263    west  2001  Winter            Rice  290378.0    735730.0   0.865   \n",
       "2182264    west  2001  Winter            Rice  290378.0    735730.0   0.200   \n",
       "2182265    west  2001  Winter            Rice  290378.0    735730.0   1.866   \n",
       "\n",
       "           Feb     Mar     Apr      May      Jun      Jul      Aug      Sep  \\\n",
       "37789    0.000  29.505  19.383   18.654  238.726  137.050  296.140   92.442   \n",
       "37790    0.000   8.177  56.759   28.460   50.801   55.809   73.125  127.757   \n",
       "37791    0.000   5.487  53.705   39.773   51.875   89.087   72.435  185.992   \n",
       "37792    0.000  11.753  36.055   22.966   54.640   58.776   79.416  148.728   \n",
       "37793    0.000   0.597  16.035   84.542  112.266   84.056  265.616  150.572   \n",
       "...        ...     ...     ...      ...      ...      ...      ...      ...   \n",
       "2182261  7.151  54.737  37.617  165.122  283.245  191.569  240.687  127.433   \n",
       "2182262  5.942  55.416  31.844  163.617  375.922  195.336  264.785  141.539   \n",
       "2182263  3.735  52.550  23.926   63.026  168.369  205.502  282.682   80.766   \n",
       "2182264  4.869  49.101  25.242  129.101  330.818  159.740  234.861  127.108   \n",
       "2182265  4.048  21.805  36.436  152.242  164.361  311.196  271.373  165.015   \n",
       "\n",
       "             Oct      Nov     Dec  \n",
       "37789    119.916    5.925   0.000  \n",
       "37790    155.670   19.560   2.472  \n",
       "37791    209.669   58.477  44.418  \n",
       "37792    178.554   28.600  13.374  \n",
       "37793    186.730  108.740   3.749  \n",
       "...          ...      ...     ...  \n",
       "2182261  150.473   13.361   0.000  \n",
       "2182262  217.714   31.785   0.276  \n",
       "2182263  110.240    9.863   0.000  \n",
       "2182264  212.852   33.798   0.427  \n",
       "2182265  124.258    2.798   0.000  \n",
       "\n",
       "[365105 rows x 18 columns]"
      ]
     },
     "execution_count": 41,
     "metadata": {},
     "output_type": "execute_result"
    }
   ],
   "source": [
    "data[data['Year']==2001]"
   ]
  },
  {
   "cell_type": "code",
   "execution_count": 10,
   "metadata": {},
   "outputs": [
    {
     "ename": "MemoryError",
     "evalue": "Unable to allocate array with shape (97570076,) and data type int64",
     "output_type": "error",
     "traceback": [
      "\u001b[0;31m---------------------------------------------------------------------------\u001b[0m",
      "\u001b[0;31mMemoryError\u001b[0m                               Traceback (most recent call last)",
      "\u001b[0;32m<ipython-input-10-a7d3245c8788>\u001b[0m in \u001b[0;36m<module>\u001b[0;34m\u001b[0m\n\u001b[0;32m----> 1\u001b[0;31m \u001b[0mdata\u001b[0m \u001b[0;34m=\u001b[0m \u001b[0mpd\u001b[0m\u001b[0;34m.\u001b[0m\u001b[0mmerge\u001b[0m\u001b[0;34m(\u001b[0m\u001b[0mdata\u001b[0m\u001b[0;34m,\u001b[0m\u001b[0mdata_3\u001b[0m\u001b[0;34m,\u001b[0m\u001b[0mon\u001b[0m\u001b[0;34m=\u001b[0m\u001b[0;34m[\u001b[0m\u001b[0;34m'State'\u001b[0m\u001b[0;34m]\u001b[0m\u001b[0;34m)\u001b[0m\u001b[0;34m.\u001b[0m\u001b[0munique\u001b[0m\u001b[0;34m(\u001b[0m\u001b[0;34m)\u001b[0m\u001b[0;34m\u001b[0m\u001b[0;34m\u001b[0m\u001b[0m\n\u001b[0m",
      "\u001b[0;32m~/.local/lib/python3.6/site-packages/pandas/core/reshape/merge.py\u001b[0m in \u001b[0;36mmerge\u001b[0;34m(left, right, how, on, left_on, right_on, left_index, right_index, sort, suffixes, copy, indicator, validate)\u001b[0m\n\u001b[1;32m     81\u001b[0m         \u001b[0mvalidate\u001b[0m\u001b[0;34m=\u001b[0m\u001b[0mvalidate\u001b[0m\u001b[0;34m,\u001b[0m\u001b[0;34m\u001b[0m\u001b[0;34m\u001b[0m\u001b[0m\n\u001b[1;32m     82\u001b[0m     )\n\u001b[0;32m---> 83\u001b[0;31m     \u001b[0;32mreturn\u001b[0m \u001b[0mop\u001b[0m\u001b[0;34m.\u001b[0m\u001b[0mget_result\u001b[0m\u001b[0;34m(\u001b[0m\u001b[0;34m)\u001b[0m\u001b[0;34m\u001b[0m\u001b[0;34m\u001b[0m\u001b[0m\n\u001b[0m\u001b[1;32m     84\u001b[0m \u001b[0;34m\u001b[0m\u001b[0m\n\u001b[1;32m     85\u001b[0m \u001b[0;34m\u001b[0m\u001b[0m\n",
      "\u001b[0;32m~/.local/lib/python3.6/site-packages/pandas/core/reshape/merge.py\u001b[0m in \u001b[0;36mget_result\u001b[0;34m(self)\u001b[0m\n\u001b[1;32m    640\u001b[0m             \u001b[0mself\u001b[0m\u001b[0;34m.\u001b[0m\u001b[0mleft\u001b[0m\u001b[0;34m,\u001b[0m \u001b[0mself\u001b[0m\u001b[0;34m.\u001b[0m\u001b[0mright\u001b[0m \u001b[0;34m=\u001b[0m \u001b[0mself\u001b[0m\u001b[0;34m.\u001b[0m\u001b[0m_indicator_pre_merge\u001b[0m\u001b[0;34m(\u001b[0m\u001b[0mself\u001b[0m\u001b[0;34m.\u001b[0m\u001b[0mleft\u001b[0m\u001b[0;34m,\u001b[0m \u001b[0mself\u001b[0m\u001b[0;34m.\u001b[0m\u001b[0mright\u001b[0m\u001b[0;34m)\u001b[0m\u001b[0;34m\u001b[0m\u001b[0;34m\u001b[0m\u001b[0m\n\u001b[1;32m    641\u001b[0m \u001b[0;34m\u001b[0m\u001b[0m\n\u001b[0;32m--> 642\u001b[0;31m         \u001b[0mjoin_index\u001b[0m\u001b[0;34m,\u001b[0m \u001b[0mleft_indexer\u001b[0m\u001b[0;34m,\u001b[0m \u001b[0mright_indexer\u001b[0m \u001b[0;34m=\u001b[0m \u001b[0mself\u001b[0m\u001b[0;34m.\u001b[0m\u001b[0m_get_join_info\u001b[0m\u001b[0;34m(\u001b[0m\u001b[0;34m)\u001b[0m\u001b[0;34m\u001b[0m\u001b[0;34m\u001b[0m\u001b[0m\n\u001b[0m\u001b[1;32m    643\u001b[0m \u001b[0;34m\u001b[0m\u001b[0m\n\u001b[1;32m    644\u001b[0m         \u001b[0mldata\u001b[0m\u001b[0;34m,\u001b[0m \u001b[0mrdata\u001b[0m \u001b[0;34m=\u001b[0m \u001b[0mself\u001b[0m\u001b[0;34m.\u001b[0m\u001b[0mleft\u001b[0m\u001b[0;34m.\u001b[0m\u001b[0m_data\u001b[0m\u001b[0;34m,\u001b[0m \u001b[0mself\u001b[0m\u001b[0;34m.\u001b[0m\u001b[0mright\u001b[0m\u001b[0;34m.\u001b[0m\u001b[0m_data\u001b[0m\u001b[0;34m\u001b[0m\u001b[0;34m\u001b[0m\u001b[0m\n",
      "\u001b[0;32m~/.local/lib/python3.6/site-packages/pandas/core/reshape/merge.py\u001b[0m in \u001b[0;36m_get_join_info\u001b[0;34m(self)\u001b[0m\n\u001b[1;32m    857\u001b[0m             )\n\u001b[1;32m    858\u001b[0m         \u001b[0;32melse\u001b[0m\u001b[0;34m:\u001b[0m\u001b[0;34m\u001b[0m\u001b[0;34m\u001b[0m\u001b[0m\n\u001b[0;32m--> 859\u001b[0;31m             \u001b[0;34m(\u001b[0m\u001b[0mleft_indexer\u001b[0m\u001b[0;34m,\u001b[0m \u001b[0mright_indexer\u001b[0m\u001b[0;34m)\u001b[0m \u001b[0;34m=\u001b[0m \u001b[0mself\u001b[0m\u001b[0;34m.\u001b[0m\u001b[0m_get_join_indexers\u001b[0m\u001b[0;34m(\u001b[0m\u001b[0;34m)\u001b[0m\u001b[0;34m\u001b[0m\u001b[0;34m\u001b[0m\u001b[0m\n\u001b[0m\u001b[1;32m    860\u001b[0m \u001b[0;34m\u001b[0m\u001b[0m\n\u001b[1;32m    861\u001b[0m             \u001b[0;32mif\u001b[0m \u001b[0mself\u001b[0m\u001b[0;34m.\u001b[0m\u001b[0mright_index\u001b[0m\u001b[0;34m:\u001b[0m\u001b[0;34m\u001b[0m\u001b[0;34m\u001b[0m\u001b[0m\n",
      "\u001b[0;32m~/.local/lib/python3.6/site-packages/pandas/core/reshape/merge.py\u001b[0m in \u001b[0;36m_get_join_indexers\u001b[0;34m(self)\u001b[0m\n\u001b[1;32m    836\u001b[0m         \u001b[0;34m\"\"\" return the join indexers \"\"\"\u001b[0m\u001b[0;34m\u001b[0m\u001b[0;34m\u001b[0m\u001b[0m\n\u001b[1;32m    837\u001b[0m         return _get_join_indexers(\n\u001b[0;32m--> 838\u001b[0;31m             \u001b[0mself\u001b[0m\u001b[0;34m.\u001b[0m\u001b[0mleft_join_keys\u001b[0m\u001b[0;34m,\u001b[0m \u001b[0mself\u001b[0m\u001b[0;34m.\u001b[0m\u001b[0mright_join_keys\u001b[0m\u001b[0;34m,\u001b[0m \u001b[0msort\u001b[0m\u001b[0;34m=\u001b[0m\u001b[0mself\u001b[0m\u001b[0;34m.\u001b[0m\u001b[0msort\u001b[0m\u001b[0;34m,\u001b[0m \u001b[0mhow\u001b[0m\u001b[0;34m=\u001b[0m\u001b[0mself\u001b[0m\u001b[0;34m.\u001b[0m\u001b[0mhow\u001b[0m\u001b[0;34m\u001b[0m\u001b[0;34m\u001b[0m\u001b[0m\n\u001b[0m\u001b[1;32m    839\u001b[0m         )\n\u001b[1;32m    840\u001b[0m \u001b[0;34m\u001b[0m\u001b[0m\n",
      "\u001b[0;32m~/.local/lib/python3.6/site-packages/pandas/core/reshape/merge.py\u001b[0m in \u001b[0;36m_get_join_indexers\u001b[0;34m(left_keys, right_keys, sort, how, **kwargs)\u001b[0m\n\u001b[1;32m   1318\u001b[0m     \u001b[0mjoin_func\u001b[0m \u001b[0;34m=\u001b[0m \u001b[0m_join_functions\u001b[0m\u001b[0;34m[\u001b[0m\u001b[0mhow\u001b[0m\u001b[0;34m]\u001b[0m\u001b[0;34m\u001b[0m\u001b[0;34m\u001b[0m\u001b[0m\n\u001b[1;32m   1319\u001b[0m \u001b[0;34m\u001b[0m\u001b[0m\n\u001b[0;32m-> 1320\u001b[0;31m     \u001b[0;32mreturn\u001b[0m \u001b[0mjoin_func\u001b[0m\u001b[0;34m(\u001b[0m\u001b[0mlkey\u001b[0m\u001b[0;34m,\u001b[0m \u001b[0mrkey\u001b[0m\u001b[0;34m,\u001b[0m \u001b[0mcount\u001b[0m\u001b[0;34m,\u001b[0m \u001b[0;34m**\u001b[0m\u001b[0mkwargs\u001b[0m\u001b[0;34m)\u001b[0m\u001b[0;34m\u001b[0m\u001b[0;34m\u001b[0m\u001b[0m\n\u001b[0m\u001b[1;32m   1321\u001b[0m \u001b[0;34m\u001b[0m\u001b[0m\n\u001b[1;32m   1322\u001b[0m \u001b[0;34m\u001b[0m\u001b[0m\n",
      "\u001b[0;32mpandas/_libs/join.pyx\u001b[0m in \u001b[0;36mpandas._libs.join.inner_join\u001b[0;34m()\u001b[0m\n",
      "\u001b[0;31mMemoryError\u001b[0m: Unable to allocate array with shape (97570076,) and data type int64"
     ]
    }
   ],
   "source": [
    "data = pd.merge(data,data_3,on=['State'])"
   ]
  },
  {
   "cell_type": "code",
   "execution_count": null,
   "metadata": {},
   "outputs": [],
   "source": [
    "data['Season'] = data['Season'].apply(lambda x: x.lower().strip())\n",
    "data['Rain'] = 0"
   ]
  },
  {
   "cell_type": "code",
   "execution_count": null,
   "metadata": {},
   "outputs": [],
   "source": [
    "for i in range(len(data)):\n",
    "    if data['Season'][i] == 'kharif':\n",
    "        data['Rain'][i] = data['Jul'][i] + data['Aug'][i] + data['Sep'][i] + data['Oct'][i] \n",
    "        \n",
    "    elif data['Season'][i] == 'rabi' or data['Season'][i] == 'winter' :\n",
    "        data['Rain'][i] = data['Oct'][i] + data['Nov'][i] + data['Dec'][i] + data['Jan'][i] + data['Feb'][i] + data['Mar'][i] \n",
    "    elif data['Season'][i] == 'summer':\n",
    "        data['Rain'][i] = data['Mar'][i] + data['Apr'][i] + data['May'][i] + data['Jun'][i]\n",
    "    elif data['Season'][i] == 'autumn':\n",
    "        data['Rain'][i] = data['Sep'][i] + data['Oct'][i]\n",
    "    else:\n",
    "        data['Rain'][i] = data['Jan'][i] + data['Feb'][i] + data['Mar'][i] + data['Apr'][i] + data['May'][i] + data['Jun'][i] +  data['Jul'][i] + data['Aug'][i] + data['Sep'][i] + data['Oct'][i] + data['Nov'][i] + data['Dec'][i] "
   ]
  },
  {
   "cell_type": "code",
   "execution_count": null,
   "metadata": {},
   "outputs": [],
   "source": [
    "data.drop(['Jan','Feb','Mar','Apr','May','Jun','Jul','Aug','Sep','Oct','Nov','Dec'],axis=1,inplace=True)\n",
    "data.dropna(inplace=True)"
   ]
  },
  {
   "cell_type": "code",
   "execution_count": null,
   "metadata": {},
   "outputs": [],
   "source": [
    "sns.jointplot(x='gnd_water_lvl',y='Production',data=data)"
   ]
  },
  {
   "cell_type": "code",
   "execution_count": null,
   "metadata": {},
   "outputs": [],
   "source": [
    "# data = data[data['State'] == 'andhra']"
   ]
  },
  {
   "cell_type": "code",
   "execution_count": null,
   "metadata": {},
   "outputs": [],
   "source": []
  },
  {
   "cell_type": "code",
   "execution_count": null,
   "metadata": {},
   "outputs": [],
   "source": [
    "a = data['State']\n",
    "# b = data['District']\n",
    "c = data['Crop']\n",
    "d = data['Season']"
   ]
  },
  {
   "cell_type": "code",
   "execution_count": null,
   "metadata": {},
   "outputs": [],
   "source": [
    "a = pd.get_dummies(a)\n",
    "# b = pd.get_dummies(b)\n",
    "c = pd.get_dummies(c)\n",
    "d = pd.get_dummies(d)"
   ]
  },
  {
   "cell_type": "code",
   "execution_count": null,
   "metadata": {},
   "outputs": [],
   "source": [
    "cols_a = a.columns.tolist()\n",
    "cols_a = cols_a[1:]\n",
    "a = a[cols_a]\n",
    "# cols_b = b.columns.tolist()\n",
    "# cols_b = cols_b[1:]\n",
    "# b = b[cols_b]\n",
    "cols_c = c.columns.tolist()\n",
    "cols_c = cols_c[1:]\n",
    "c = c[cols_c]\n",
    "cols_d = c.columns.tolist()\n",
    "cols_d = cols_d[1:]\n",
    "c = c[cols_d]"
   ]
  },
  {
   "cell_type": "code",
   "execution_count": null,
   "metadata": {},
   "outputs": [],
   "source": [
    "data.drop(['State','Crop','Season'],axis=1,inplace=True)\n",
    "data.reset_index(drop=True,inplace=True)"
   ]
  },
  {
   "cell_type": "code",
   "execution_count": null,
   "metadata": {},
   "outputs": [],
   "source": [
    "data = pd.concat([data,a,c,d],axis = 1)"
   ]
  },
  {
   "cell_type": "code",
   "execution_count": null,
   "metadata": {},
   "outputs": [],
   "source": [
    "cols = data.columns.tolist()\n",
    "cols = cols[:2]+ cols[3:] + [cols[2]]\n",
    "data = data[cols]"
   ]
  },
  {
   "cell_type": "code",
   "execution_count": null,
   "metadata": {},
   "outputs": [],
   "source": [
    "data"
   ]
  },
  {
   "cell_type": "code",
   "execution_count": null,
   "metadata": {},
   "outputs": [],
   "source": [
    "from sklearn import preprocessing\n",
    "x = data[['Rain']].values.astype(float)\n",
    "min_max_scaler_s = preprocessing.MinMaxScaler()\n",
    "x_season = min_max_scaler_s.fit_transform(x)\n",
    "data['Rain'] = pd.DataFrame(x_season)\n",
    "\n",
    "x = data[['Year']].values.astype(float)\n",
    "min_max_scaler_y = preprocessing.MinMaxScaler()\n",
    "x_year = min_max_scaler_y.fit_transform(x)\n",
    "data['Year'] = pd.DataFrame(x_year)\n",
    "\n",
    "x = data[['Area']].values.astype(float)\n",
    "min_max_scaler_a = preprocessing.MinMaxScaler()\n",
    "x_area = min_max_scaler_a.fit_transform(x)\n",
    "data['Area'] = pd.DataFrame(x_area)\n",
    "\n",
    "x = data[['Production']].values.astype(float)\n",
    "min_max_scaler_p = preprocessing.MinMaxScaler()\n",
    "x_prod = min_max_scaler_p.fit_transform(x)\n",
    "data['Production'] = pd.DataFrame(x_prod)\n",
    "\n",
    "x = data[['gnd_water_lvl']].values.astype(float)\n",
    "min_max_scaler_g = preprocessing.MinMaxScaler()\n",
    "x_gnd = min_max_scaler_g.fit_transform(x)\n",
    "data['gnd_water_lvl'] = pd.DataFrame(x_gnd)"
   ]
  },
  {
   "cell_type": "code",
   "execution_count": null,
   "metadata": {},
   "outputs": [],
   "source": [
    "data[['Year']]"
   ]
  },
  {
   "cell_type": "code",
   "execution_count": null,
   "metadata": {},
   "outputs": [],
   "source": [
    "min_max_scaler_y.inverse_transform([[0.537]])"
   ]
  },
  {
   "cell_type": "code",
   "execution_count": null,
   "metadata": {},
   "outputs": [],
   "source": [
    "data.dropna(inplace = True)"
   ]
  },
  {
   "cell_type": "code",
   "execution_count": null,
   "metadata": {},
   "outputs": [],
   "source": [
    "# data = data[data['andhra']==1.0]"
   ]
  },
  {
   "cell_type": "code",
   "execution_count": null,
   "metadata": {},
   "outputs": [],
   "source": [
    "data"
   ]
  },
  {
   "cell_type": "code",
   "execution_count": null,
   "metadata": {},
   "outputs": [],
   "source": [
    "X = data[cols[:-1]]\n",
    "y = data['Production']"
   ]
  },
  {
   "cell_type": "code",
   "execution_count": null,
   "metadata": {},
   "outputs": [],
   "source": [
    "from sklearn.model_selection import train_test_split\n",
    "X_train, X_test, y_train, y_test = train_test_split(X, y,test_size=0.3,random_state=101)"
   ]
  },
  {
   "cell_type": "code",
   "execution_count": null,
   "metadata": {},
   "outputs": [],
   "source": [
    "from sklearn.tree import DecisionTreeRegressor"
   ]
  },
  {
   "cell_type": "code",
   "execution_count": null,
   "metadata": {},
   "outputs": [],
   "source": [
    "dtree = DecisionTreeRegressor()"
   ]
  },
  {
   "cell_type": "code",
   "execution_count": null,
   "metadata": {},
   "outputs": [],
   "source": [
    "dtree.fit(X_train,y_train)"
   ]
  },
  {
   "cell_type": "code",
   "execution_count": null,
   "metadata": {},
   "outputs": [],
   "source": [
    "predictions = dtree.predict(X_test)"
   ]
  },
  {
   "cell_type": "code",
   "execution_count": null,
   "metadata": {},
   "outputs": [],
   "source": [
    "a = min_max_scaler_p.inverse_transform([y_test])\n",
    "b = min_max_scaler_p.inverse_transform([predictions])\n",
    "\n",
    "a = a.reshape(len(a[0]),)\n",
    "b = b.reshape(len(b[0]),)\n",
    "a.shape"
   ]
  },
  {
   "cell_type": "code",
   "execution_count": null,
   "metadata": {},
   "outputs": [],
   "source": []
  },
  {
   "cell_type": "code",
   "execution_count": null,
   "metadata": {},
   "outputs": [],
   "source": [
    "check = pd.DataFrame()\n",
    "check['Test'] = a\n",
    "b = b.astype(int)\n",
    "check['Pred'] = b\n",
    "check[check['Pred'] == 35688].count()"
   ]
  },
  {
   "cell_type": "code",
   "execution_count": null,
   "metadata": {},
   "outputs": [],
   "source": [
    "from plotly import __version__\n",
    "from plotly.offline import download_plotlyjs, init_notebook_mode, plot, iplot\n",
    "\n",
    "print(__version__) # requires version >= 1.9.0"
   ]
  },
  {
   "cell_type": "code",
   "execution_count": null,
   "metadata": {},
   "outputs": [],
   "source": [
    "import cufflinks as cf\n",
    "init_notebook_mode(connected=True)\n",
    "cf.go_offline()"
   ]
  },
  {
   "cell_type": "code",
   "execution_count": null,
   "metadata": {},
   "outputs": [],
   "source": [
    "check.iplot(kind='scatter',x='Test',y='Pred',mode='markers',size=10)"
   ]
  },
  {
   "cell_type": "code",
   "execution_count": 94,
   "metadata": {
    "scrolled": true
   },
   "outputs": [
    {
     "data": {
      "text/plain": [
       "<Figure size 360x720 with 0 Axes>"
      ]
     },
     "execution_count": 94,
     "metadata": {},
     "output_type": "execute_result"
    },
    {
     "data": {
      "image/png": "[encoded data removed]",
      "text/plain": [
       "<Figure size 432x288 with 1 Axes>"
      ]
     },
     "metadata": {
      "needs_background": "light"
     },
     "output_type": "display_data"
    },
    {
     "data": {
      "text/plain": [
       "<Figure size 360x720 with 0 Axes>"
      ]
     },
     "metadata": {},
     "output_type": "display_data"
    }
   ],
   "source": [
    "# # plt.scatter(min_max_scaler_p.inverse_transform([y_test]),min_max_scaler_p.inverse_transform([predictions]))\n",
    "# # plt.xlabel('Y Test')\n",
    "# # plt.ylabel('Predicted Y')\n",
    "# fig = sns.scatterplot(x='Test',y='Pred',data=check)\n",
    "# plt.yticks(fig.get_yticks(), fig.get_yticks() )\n",
    "# plt.xticks(fig.get_yticks(), fig.get_yticks() )\n",
    "# plt.figure(figsize=(5,10))\n"
   ]
  },
  {
   "cell_type": "code",
   "execution_count": null,
   "metadata": {},
   "outputs": [],
   "source": []
  },
  {
   "cell_type": "code",
   "execution_count": null,
   "metadata": {},
   "outputs": [],
   "source": []
  }
 ],
 "metadata": {
  "kernelspec": {
   "display_name": "Python 3",
   "language": "python",
   "name": "python3"
  },
  "language_info": {
   "codemirror_mode": {
    "name": "ipython",
    "version": 3
   },
   "file_extension": ".py",
   "mimetype": "text/x-python",
   "name": "python",
   "nbconvert_exporter": "python",
   "pygments_lexer": "ipython3",
   "version": "3.6.7"
  }
 },
 "nbformat": 4,
 "nbformat_minor": 2
}
